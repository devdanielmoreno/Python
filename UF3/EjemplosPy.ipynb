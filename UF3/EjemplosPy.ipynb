{
 "cells": [
  {
   "attachments": {},
   "cell_type": "markdown",
   "metadata": {},
   "source": [
    "Gestió de cadenes en Python"
   ]
  },
  {
   "cell_type": "code",
   "execution_count": 63,
   "metadata": {},
   "outputs": [
    {
     "name": "stdout",
     "output_type": "stream",
     "text": [
      "szA: \"Una frase amb paraules\" té 22 caràcters\n",
      "szB: \"Una\" té 3 caràcters\n",
      "szB: \" frase amb paraules\" té 19 caràcters\n",
      "szB: \"frase\" té 5 caràcters\n",
      "szB: \"Una frase amb parau\" té 19 caràcters\n",
      "szB: \"paraules\" té 8 caràcters\n"
     ]
    }
   ],
   "source": [
    "szA = \"Una frase amb paraules\"\n",
    "print (\"szA: \\\"%s\\\" té %d caràcters\"%(szA,len(szA)))\n",
    "szB = szA[:3] # Agafa els tres primer caràcters\n",
    "print (\"szB: \\\"%s\\\" té %d caràcters\"%(szB,len(szB)))\n",
    "szB = szA[3:] # Agafa a partir del tercer caràcter\n",
    "print (\"szB: \\\"%s\\\" té %d caràcters\"%(szB,len(szB)))\n",
    "szB = szA[4:9] # Agafa a partir del quart caràcter els cinc caràcters següents\n",
    "print (\"szB: \\\"%s\\\" té %d caràcters\"%(szB,len(szB)))\n",
    "szB = szA[:-3] # Agafa tots els caràcters excepte els tres últims\n",
    "print (\"szB: \\\"%s\\\" té %d caràcters\"%(szB,len(szB)))\n",
    "szB = szA[-8:] # Agafa els darrers 8 caràcters\n",
    "print (\"szB: \\\"%s\\\" té %d caràcters\"%(szB,len(szB)))"
   ]
  },
  {
   "attachments": {},
   "cell_type": "markdown",
   "metadata": {},
   "source": [
    "Comptar caràcters en Python"
   ]
  },
  {
   "cell_type": "code",
   "execution_count": 64,
   "metadata": {},
   "outputs": [
    {
     "name": "stdout",
     "output_type": "stream",
     "text": [
      "szA: \"Una frase amb paraules\" té 22 caràcters\n"
     ]
    }
   ],
   "source": [
    "szA = \"Una frase amb paraules\"\n",
    "print (\"szA: \\\"%s\\\" té %d caràcters\"%(szA,len(szA)))"
   ]
  },
  {
   "attachments": {},
   "cell_type": "markdown",
   "metadata": {},
   "source": [
    "Copiar cadenes en Python"
   ]
  },
  {
   "cell_type": "code",
   "execution_count": 65,
   "metadata": {},
   "outputs": [
    {
     "name": "stdout",
     "output_type": "stream",
     "text": [
      "szA: \"Una frase amb paraules\" té 22 caràcters\n",
      "szB: \"Una frase amb paraules\" té 22 caràcters\n"
     ]
    }
   ],
   "source": [
    "szA = \"Una frase amb paraules\"\n",
    "print (\"szA: \\\"%s\\\" té %d caràcters\"%(szA,len(szA)))\n",
    "szB = szA # A Python es poden copiar cadenes amb un =. Cosa que no és possible en C\n",
    "print (\"szB: \\\"%s\\\" té %d caràcters\"%(szB,len(szB)))"
   ]
  },
  {
   "attachments": {},
   "cell_type": "markdown",
   "metadata": {},
   "source": [
    "Concatenació de cadenes en Python"
   ]
  },
  {
   "cell_type": "code",
   "execution_count": 66,
   "metadata": {},
   "outputs": [
    {
     "name": "stdout",
     "output_type": "stream",
     "text": [
      "szA: \"Una frase amb paraules\" té 22 caràcters\n",
      "szA: \"Una frase amb paraules i aquí continua\" té 38 caràcters\n"
     ]
    }
   ],
   "source": [
    "szA = \"Una frase amb paraules\"\n",
    "print (\"szA: \\\"%s\\\" té %d caràcters\"%(szA,len(szA)))\n",
    "szB = \" i aquí continua\"\n",
    "szA = szA + szB # El mateix que szA += szB . El signe + concatena en Python\n",
    "print (\"szA: \\\"%s\\\" té %d caràcters\"%(szA,len(szA)))    "
   ]
  },
  {
   "attachments": {},
   "cell_type": "markdown",
   "metadata": {},
   "source": [
    "Pas d'arguments pel terminal en Python"
   ]
  },
  {
   "cell_type": "code",
   "execution_count": 67,
   "metadata": {},
   "outputs": [
    {
     "name": "stdout",
     "output_type": "stream",
     "text": [
      "No hi ha un argument\n"
     ]
    }
   ],
   "source": [
    "import sys\n",
    "\n",
    "if len(sys.argv) == 2:\n",
    "    print(\"L'argument es: \\\"%s\\\"\"%(sys.argv[1]))\n",
    "else:\n",
    "    print(\"No hi ha un argument\")"
   ]
  },
  {
   "attachments": {},
   "cell_type": "markdown",
   "metadata": {},
   "source": [
    "Saber si un arxiu existeix en Python"
   ]
  },
  {
   "cell_type": "code",
   "execution_count": 73,
   "metadata": {},
   "outputs": [
    {
     "name": "stdout",
     "output_type": "stream",
     "text": [
      "L'arxiu moreno.txt existeix\n"
     ]
    }
   ],
   "source": [
    "import sys\n",
    "\n",
    "nomFitxer = \"\"\n",
    "if len(sys.argv) == 2:\n",
    "    nomFitxer = sys.argv[1]\n",
    "else:\n",
    "    nomFitxer = input(\"Nom del fitxer: \")\n",
    "try:\n",
    "    f = open(nomFitxer)\n",
    "    print(\"L'arxiu %s existeix\"%nomFitxer)\n",
    "    f.close()\n",
    "except:\n",
    "    print(\"L'arxiu %s no existeix\"%nomFitxer)"
   ]
  },
  {
   "attachments": {},
   "cell_type": "markdown",
   "metadata": {},
   "source": [
    "Llegir arxius línia a línia en Python"
   ]
  },
  {
   "cell_type": "code",
   "execution_count": 72,
   "metadata": {},
   "outputs": [
    {
     "name": "stdout",
     "output_type": "stream",
     "text": [
      "moreno.txt existeix\n",
      "El contingut de l'arxiu és: \n",
      "1) hola me llamo dani\n",
      "2) Estudio en Jesuites el Clot\n"
     ]
    }
   ],
   "source": [
    "import sys\n",
    "\n",
    "if len(sys.argv) == 2:\n",
    "    nomFitxer = sys.argv[1]\n",
    "else:\n",
    "    nomFitxer = input(\"Nom arxiu: \")\n",
    "try:\n",
    "    f = open(nomFitxer)\n",
    "    print(\"%s existeix\"%nomFitxer)\n",
    "    print(\"El contingut de l'arxiu és: \")\n",
    "    szContingut = f.read()\n",
    "    nL = 1\n",
    "    szLinia = \"\"\n",
    "    for c in szContingut:\n",
    "        #print(\"%d) %s\"%(nL, linia))\n",
    "        #nL+=1\n",
    "        if c != \"\\n\":\n",
    "            szLinia += c\n",
    "        else:\n",
    "            print(\"%d) %s\"%(nL, szLinia))\n",
    "            nL+=1\n",
    "            szLinia = \"\"\n",
    "    f.close()\n",
    "except:\n",
    "    print(\"%s no existeix\"%nomFitxer)"
   ]
  },
  {
   "attachments": {},
   "cell_type": "markdown",
   "metadata": {},
   "source": [
    "Diccionaris en Python"
   ]
  },
  {
   "cell_type": "code",
   "execution_count": 70,
   "metadata": {},
   "outputs": [
    {
     "name": "stdout",
     "output_type": "stream",
     "text": [
      "{'nom': 'Dani', 'cognom1': 'Moreno', 'cognom2': 'Lao', 'edat': 18}\n",
      "{'nom': 'Dani', 'cognom1': 'Moreno', 'cognom2': 'Lao', 'edat': 19}\n"
     ]
    }
   ],
   "source": [
    "alumne = {\n",
    "    \"nom\": \"Dani\",\n",
    "    \"cognom1\": \"Moreno\",\n",
    "    \"cognom2\": \"Lao\",\n",
    "    \"edat\": 18\n",
    "}\n",
    "\n",
    "print(alumne)\n",
    "alumne[\"edat\"] += 1\n",
    "print(alumne)"
   ]
  },
  {
   "attachments": {},
   "cell_type": "markdown",
   "metadata": {},
   "source": [
    "Creació d'una classe"
   ]
  },
  {
   "cell_type": "code",
   "execution_count": 86,
   "metadata": {},
   "outputs": [
    {
     "name": "stdout",
     "output_type": "stream",
     "text": [
      "5\n",
      "5\n",
      "8\n"
     ]
    }
   ],
   "source": [
    "# classe00.py\n",
    "class LaMevaClasse:\n",
    "    x = 5\n",
    "\n",
    "p1 = LaMevaClasse\n",
    "print(p1.x)\n",
    "p2 = p1\n",
    "print(p2.x)\n",
    "p2.x += 3\n",
    "print(p2.x)"
   ]
  },
  {
   "attachments": {},
   "cell_type": "markdown",
   "metadata": {},
   "source": [
    "Creació d'un objecte"
   ]
  },
  {
   "cell_type": "code",
   "execution_count": 80,
   "metadata": {},
   "outputs": [
    {
     "name": "stdout",
     "output_type": "stream",
     "text": [
      "5\n"
     ]
    }
   ],
   "source": [
    "#classe01.py\n",
    "class LaMevaClasse:\n",
    "    x = 5\n",
    "\n",
    "p1 = LaMevaClasse()\n",
    "print(p1.x)"
   ]
  },
  {
   "attachments": {},
   "cell_type": "markdown",
   "metadata": {},
   "source": [
    "Mètode __init__()"
   ]
  },
  {
   "cell_type": "code",
   "execution_count": 1,
   "metadata": {},
   "outputs": [
    {
     "name": "stdout",
     "output_type": "stream",
     "text": [
      "John\n",
      "36\n",
      "Dani\n",
      "18\n",
      "Alex\n"
     ]
    }
   ],
   "source": [
    "# classe02.py\n",
    "class Person:\n",
    "  def __init__(self, name, age):\n",
    "    self.name = name\n",
    "    self.age = age\n",
    "\n",
    "class Alumne:\n",
    "  def __init__(self, name, age):\n",
    "    self.name = \"Dani\"\n",
    "    self.age = 18\n",
    "\n",
    "p1 = Person(\"John\", 36)\n",
    "p2 = Alumne(\"Toni\",53)#al ejecutarlo se ignora esta linea\n",
    "\n",
    "print(p1.name)\n",
    "print(p1.age)\n",
    "print(p2.name)\n",
    "print(p2.age)\n",
    "p2.name = \"Alex\"\n",
    "print(p2.name)"
   ]
  },
  {
   "attachments": {},
   "cell_type": "markdown",
   "metadata": {},
   "source": [
    "Mètode __str__()"
   ]
  },
  {
   "cell_type": "code",
   "execution_count": 2,
   "metadata": {},
   "outputs": [
    {
     "name": "stdout",
     "output_type": "stream",
     "text": [
      "<__main__.Person object at 0x000001AD5C0D7E50>\n",
      "Dani(18)\n"
     ]
    }
   ],
   "source": [
    "# classe03.py\n",
    "class Person:\n",
    "  def __init__(self, name, age):\n",
    "    self.name = name\n",
    "    self.age = age\n",
    "\n",
    "  #def __str__(self):\n",
    "    #return \"%s(%s)\"%(self.name,self.age)  \n",
    "  \n",
    "class Alumne:\n",
    "  def __init__(self, name, age):\n",
    "    self.name = name\n",
    "    self.age = age\n",
    "\n",
    "  def __str__(self):\n",
    "    return \"%s(%s)\"%(self.name,self.age)  \n",
    "\n",
    "p1 = Person(\"John\", 36)\n",
    "p2 = Alumne(\"Dani\", 18)\n",
    "\n",
    "print(p1)\n",
    "print(p2)"
   ]
  },
  {
   "attachments": {},
   "cell_type": "markdown",
   "metadata": {},
   "source": [
    "Mètodes personalitzats"
   ]
  },
  {
   "cell_type": "code",
   "execution_count": 3,
   "metadata": {},
   "outputs": [
    {
     "name": "stdout",
     "output_type": "stream",
     "text": [
      "Hello my name is John, and I have 36 years old\n",
      "\n",
      "Hello my name is John, and I have 36 years old\n",
      "\n",
      "Nom: John(edat: 36)\n"
     ]
    }
   ],
   "source": [
    "# classe04.py\n",
    "class Person:\n",
    "  def __init__(self, name, age):\n",
    "    self.name = name\n",
    "    self.age = age\n",
    "\n",
    "  def myfunc(self):\n",
    "    print(\"Hello my name is \" + self.name + \", and I have \" + str(self.age) + \" years old\") \n",
    "    print()\n",
    "    print(\"Hello my name is %s, and I have %d years old\"%(self.name, self.age))\n",
    "    print()\n",
    "    print(f\"Nom: {self.name}(edat: {self.age})\")\n",
    "\n",
    "p1 = Person(\"John\", 36)\n",
    "p1.myfunc()"
   ]
  }
 ],
 "metadata": {
  "kernelspec": {
   "display_name": "Python 3",
   "language": "python",
   "name": "python3"
  },
  "language_info": {
   "codemirror_mode": {
    "name": "ipython",
    "version": 3
   },
   "file_extension": ".py",
   "mimetype": "text/x-python",
   "name": "python",
   "nbconvert_exporter": "python",
   "pygments_lexer": "ipython3",
   "version": "3.10.2"
  },
  "orig_nbformat": 4
 },
 "nbformat": 4,
 "nbformat_minor": 2
}
